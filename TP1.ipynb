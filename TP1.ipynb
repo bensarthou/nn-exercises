{
 "cells": [
  {
   "cell_type": "markdown",
   "metadata": {
    "colab_type": "text",
    "id": "bOT3u0GZKWc8"
   },
   "source": [
    "# Réseau de neurones: les bases en numpy\n"
   ]
  },
  {
   "cell_type": "markdown",
   "metadata": {
    "colab_type": "text",
    "id": "Irgrskx6KWc-"
   },
   "source": [
    "Le but de ce TP1 est d'acquérir les bases nécessaires à la compréhension des réseaux de neurones à partir d'un modèle simple de type Softmax. La tâche d'apprentissage consiste à classifier les images (28 par 28 pixels) de la base MNIST (http://yann.lecun.com/exdb/mnist/) en 10 catégories représentant les chiffres 0-9.\n",
    "\n",
    "Le TP2 consistera à généraliser les concepts de ce TP1 à un réseau de neurones multi-couches."
   ]
  },
  {
   "cell_type": "markdown",
   "metadata": {
    "colab_type": "text",
    "id": "nlmi-culKWdA"
   },
   "source": [
    "## Téléchargement de la base d'entraînement"
   ]
  },
  {
   "cell_type": "code",
   "execution_count": 1,
   "metadata": {
    "colab": {},
    "colab_type": "code",
    "id": "B9Ekg9fkKWdD"
   },
   "outputs": [],
   "source": [
    "%matplotlib inline\n",
    "import os\n",
    "import numpy as np\n",
    "import matplotlib.pyplot as plt\n",
    "\n",
    "mnistfile=\"mnist.pkl.gz\"\n",
    "\n",
    "# If you need to download it : \n",
    "if(\"mnist.pkl.gz\" not in os.listdir(\".\")):\n",
    "    !wget http://deeplearning.net/data/mnist/mnist.pkl.gz"
   ]
  },
  {
   "cell_type": "markdown",
   "metadata": {
    "colab_type": "text",
    "id": "9Z209vjgKWdI"
   },
   "source": [
    "## Chargement de la base en mémoire"
   ]
  },
  {
   "cell_type": "code",
   "execution_count": 2,
   "metadata": {
    "colab": {
     "base_uri": "https://localhost:8080/",
     "height": 317
    },
    "colab_type": "code",
    "executionInfo": {
     "elapsed": 758,
     "status": "error",
     "timestamp": 1539027170049,
     "user": {
      "displayName": "Xihui Wang",
      "photoUrl": "",
      "userId": "09445164112052208872"
     },
     "user_tz": -120
    },
    "id": "mpsZNRC7KWdJ",
    "outputId": "62717275-e711-44e0-eafa-990e62d7a244"
   },
   "outputs": [],
   "source": [
    "import dataset_loader\n",
    "train_set, valid_set, test_set = dataset_loader.load_mnist(mnistfile)"
   ]
  },
  {
   "cell_type": "markdown",
   "metadata": {
    "colab_type": "text",
    "id": "6omnBvnBKWdM"
   },
   "source": [
    "Vous pouvez visualiser les différents caractères en changeant l'identifiant de l'image"
   ]
  },
  {
   "cell_type": "code",
   "execution_count": 3,
   "metadata": {
    "colab": {},
    "colab_type": "code",
    "id": "_vaeu6ApKWdN"
   },
   "outputs": [
    {
     "name": "stdout",
     "output_type": "stream",
     "text": [
      "label: 3\n"
     ]
    },
    {
     "data": {
      "image/png": "[encoded data removed]",
      "text/plain": [
       "<Figure size 432x288 with 1 Axes>"
      ]
     },
     "metadata": {
      "needs_background": "light"
     },
     "output_type": "display_data"
    }
   ],
   "source": [
    "img_id = 900\n",
    "plt.imshow(train_set[0][img_id].reshape(28,28),cmap='Greys')\n",
    "print(\"label: \" + str(train_set[1][img_id]))"
   ]
  },
  {
   "cell_type": "markdown",
   "metadata": {
    "colab_type": "text",
    "id": "GNRQzPZ3KWdP"
   },
   "source": [
    "**Question:** Donner les caractéristiques de la base d'apprentissage train_set"
   ]
  },
  {
   "cell_type": "code",
   "execution_count": 4,
   "metadata": {
    "colab": {},
    "colab_type": "code",
    "id": "Agfwh-s8KWdQ"
   },
   "outputs": [],
   "source": [
    "def getDimDataset(train_set):\n",
    "    n_training = train_set[0].shape[0]\n",
    "    n_feature = train_set[0].shape[1]\n",
    "    n_label = len(np.unique(train_set[1]))\n",
    "    return n_training, n_feature, n_label"
   ]
  },
  {
   "cell_type": "code",
   "execution_count": 5,
   "metadata": {
    "colab": {},
    "colab_type": "code",
    "id": "NeDu0nO6KWdT"
   },
   "outputs": [
    {
     "data": {
      "text/plain": [
       "(50000, 784, 10)"
      ]
     },
     "execution_count": 5,
     "metadata": {},
     "output_type": "execute_result"
    }
   ],
   "source": [
    "getDimDataset(train_set)"
   ]
  },
  {
   "cell_type": "markdown",
   "metadata": {
    "colab_type": "text",
    "id": "MvZIFXNNKWdV"
   },
   "source": [
    "## Création du modèle\n",
    "\n",
    "Nous allons d'abord créer une couche linéaire, soit une transformation linéaire. La vraie difficulté réside dans la manipulation de matrices de ne pas se mélanger dans les dimensions. \n",
    "\n",
    "Pour l'implémentation, nous allons considérer explicitement le terme de biais. Ainsi, une couche linéaire se définit comme la tranformation linéaire: \n",
    "$$\n",
    "\\mathbf{y} = \\mathbf{W}\\mathbf{x}+ \\mathbf{b}\n",
    "$$\n",
    "\n",
    "Notons *n_in* et *n_out* respectivement les dimensions de $\\mathbf{x}$ et $\\mathbf{y}$. \n",
    "\n",
    "**Questions:**\n",
    "- écrire les dimensions de W et b\n",
    "- Coder la fonction d'init. suivante, l'init. est aléatoire et gaussienne, comme dans le cours. La fonction retourne W et b. \n"
   ]
  },
  {
   "cell_type": "code",
   "execution_count": 6,
   "metadata": {
    "colab": {},
    "colab_type": "code",
    "id": "zaHamy9hKWdX"
   },
   "outputs": [],
   "source": [
    "def init(n_in,n_out):\n",
    "    \"\"\"\n",
    "    Init the weights matrix and biases vector for a given layer.\n",
    "    :param n_in: size of the input, int\n",
    "    :param n_out: size of the output, int\n",
    "    :return: W: the weights, ndarray (n_out x n_in)\n",
    "    :return: b: the bias, ndarray (n_out x 1)\n",
    "    \"\"\"\n",
    "    W = np.random.normal(0, 1/np.sqrt(n_in), (n_out, n_in))\n",
    "    b = np.random.normal(0, 1/np.sqrt(n_in), (n_out, 1))\n",
    "    return W,b"
   ]
  },
  {
   "cell_type": "markdown",
   "metadata": {
    "colab_type": "text",
    "id": "79A7J5vYKWdZ"
   },
   "source": [
    "**Test:** Même si cela ne sera pas redit, on vérifie toujours les dimensions de ce que l'on crée, et transforme. Dit autrement on fait des tests intermédiaires. En machine learning, comme en programmation, c'est incontournable. \n",
    "Pour cela créer, une couche de tailles d'entrée et de sortie égales à 5 et 3. \n"
   ]
  },
  {
   "cell_type": "code",
   "execution_count": 7,
   "metadata": {
    "colab": {},
    "colab_type": "code",
    "id": "Z4MGDedaKWda"
   },
   "outputs": [
    {
     "name": "stdout",
     "output_type": "stream",
     "text": [
      "[[-0.9662568   0.10706181  0.12569677  0.37085798  0.34066942]\n",
      " [-0.36414598 -0.53576429  0.20061319  0.06465316 -0.27795369]\n",
      " [ 0.76433612 -0.39056445  0.31033643 -0.16682046 -0.44213716]]\n",
      "[[0.40087745]\n",
      " [0.61364556]\n",
      " [0.17930469]]\n"
     ]
    }
   ],
   "source": [
    "W, b = init(5, 3)\n",
    "print(W)\n",
    "print(b)"
   ]
  },
  {
   "cell_type": "markdown",
   "metadata": {
    "colab_type": "text",
    "id": "Whj07Lr5KWdc"
   },
   "source": [
    "**Question :** Donner les dimensions de W et b ainsi que le nombre total de paramètres du modèle"
   ]
  },
  {
   "cell_type": "code",
   "execution_count": 8,
   "metadata": {
    "colab": {},
    "colab_type": "code",
    "id": "GrvS_bs1KWdd"
   },
   "outputs": [],
   "source": [
    "def printInfo(W,b):\n",
    "    print(\"W dimensions: \" + str(W.shape))\n",
    "    print(\"b dimensions: \" + str(b.shape))\n",
    "    print(\"Number of parameters: \" + str(np.size(W) + np.size(b)))"
   ]
  },
  {
   "cell_type": "code",
   "execution_count": 9,
   "metadata": {},
   "outputs": [
    {
     "name": "stdout",
     "output_type": "stream",
     "text": [
      "W dimensions: (3, 5)\n",
      "b dimensions: (3, 1)\n",
      "Number of parameters: 18\n"
     ]
    }
   ],
   "source": [
    "printInfo(W, b)"
   ]
  },
  {
   "cell_type": "markdown",
   "metadata": {
    "colab_type": "text",
    "id": "euHVEX4iKWdf"
   },
   "source": [
    "**Question:** Implémenter la fonction forward tel que $$y_j = \\sum_{i \\rightarrow j} W_{ij} x_i + b_j$$ où $x_i$ est un pixel de l'image, $W_{ij}$ est la valeur associée à l'arête reliant les unités $i$ et $j$ et $b_j$ est le biais associé à l'unité $j$"
   ]
  },
  {
   "cell_type": "code",
   "execution_count": 10,
   "metadata": {
    "colab": {},
    "colab_type": "code",
    "id": "emgTpnkOKWdf"
   },
   "outputs": [],
   "source": [
    "def forward(W,b,X):\n",
    "    \"\"\"\n",
    "    Perform the forward propagation\n",
    "    :param W: the weights (n_output x n_input)\n",
    "    :param b: the bias (n_output * 1)\n",
    "    :param X: the input (minibatch_size x n_input)\n",
    "    :type W: ndarray\n",
    "    :type B: ndarray\n",
    "    :type X: ndarray\n",
    "    :return: the transformed values (n_output x minibatch_size)\n",
    "    :rtype: ndarray\n",
    "    \"\"\"\n",
    "    return np.dot(W, np.transpose(X)) + b"
   ]
  },
  {
   "cell_type": "code",
   "execution_count": 11,
   "metadata": {},
   "outputs": [
    {
     "data": {
      "text/plain": [
       "array([[-1.26705629,  0.60207438, -0.15121343, -0.76899478],\n",
       "       [ 0.34105751,  0.00522999, -0.02532901, -1.26264505],\n",
       "       [ 1.89595593, -0.36613631,  0.29395359,  0.0438311 ]])"
      ]
     },
     "execution_count": 11,
     "metadata": {},
     "output_type": "execute_result"
    }
   ],
   "source": [
    "X = np.random.randn(4, 5)\n",
    "forward(W, b, X)"
   ]
  },
  {
   "cell_type": "markdown",
   "metadata": {
    "colab_type": "text",
    "id": "gITyvKlJKWdh"
   },
   "source": [
    "**Question:** Implémenter la fonction softmax $$ \\sigma_i = \\frac{\\exp{a_i}}{\\sum_k \\exp{a_k}}$$"
   ]
  },
  {
   "cell_type": "code",
   "execution_count": 12,
   "metadata": {
    "colab": {},
    "colab_type": "code",
    "id": "4RP7zNrrKWdh"
   },
   "outputs": [],
   "source": [
    "def softmax(a):\n",
    "    \"\"\"\n",
    "        Perform the stable softmax transformation to the pre-activation values\n",
    "        :param a: the pre-activation values (n_output x minibatch_size)\n",
    "        :type a: ndarray\n",
    "        :return: the activation values (n_output x minibatch_size)\n",
    "        :rtype: ndarray\n",
    "    \"\"\"\n",
    "    a = a - np.max(a)\n",
    "    output = a\n",
    "    for i_sample in range(a.shape[1]):\n",
    "        output[:, i_sample] = np.exp(a[:, i_sample]) / np.sum(np.exp(a[:, i_sample]))\n",
    "    return output"
   ]
  },
  {
   "cell_type": "markdown",
   "metadata": {
    "colab_type": "text",
    "id": "oeBggY-AKWdj"
   },
   "source": [
    "**Question:** Vérifier que votre implémentation de softmax soit numériquement stable \n",
    "\n",
    "**Question:** Si le softmax s'avère instable, comment le rendre stable ? Proposer une implémentation stable du softmax. "
   ]
  },
  {
   "cell_type": "code",
   "execution_count": 13,
   "metadata": {
    "colab": {},
    "colab_type": "code",
    "id": "6dj3H212KWdj"
   },
   "outputs": [
    {
     "name": "stdout",
     "output_type": "stream",
     "text": [
      "[[1]\n",
      " [0]\n",
      " [0]]\n"
     ]
    }
   ],
   "source": [
    "# Example for testing the numerical stability of softmax\n",
    "# It should return [1., 0. ,0.], not [nan, 0., 0.]\n",
    "z = np.array(np.transpose([[1000000,1,100]]))\n",
    "print(softmax(z))"
   ]
  },
  {
   "cell_type": "code",
   "execution_count": 14,
   "metadata": {},
   "outputs": [
    {
     "name": "stdout",
     "output_type": "stream",
     "text": [
      "A (pre activation) = \n",
      "[[-1.26705629  0.60207438 -0.15121343 -0.76899478]\n",
      " [ 0.34105751  0.00522999 -0.02532901 -1.26264505]\n",
      " [ 1.89595593 -0.36613631  0.29395359  0.0438311 ]]\n",
      "Y (activation) = \n",
      "[[0.03374379 0.518052   0.27064318 0.25875474]\n",
      " [0.16849567 0.28521156 0.30695025 0.1579424 ]\n",
      " [0.79776054 0.19673643 0.42240657 0.58330286]]\n"
     ]
    }
   ],
   "source": [
    "A = forward(W, b, X[:4, :])\n",
    "print(\"A (pre activation) = \\n{}\".format(A))\n",
    "print(\"Y (activation) = \\n{}\".format(softmax(A)))"
   ]
  },
  {
   "cell_type": "markdown",
   "metadata": {
    "colab_type": "text",
    "id": "4BKLEUkNKWdo"
   },
   "source": [
    "**Question:** Implémenter le calcul du gradient de l'erreur par rapport à $a_i$:\n",
    "$$\\delta a_i = \\sigma_i - 1_{i=l}$$\n",
    "où $l$ est l'étiquette associée à la donnée courante."
   ]
  },
  {
   "cell_type": "code",
   "execution_count": 16,
   "metadata": {
    "colab": {},
    "colab_type": "code",
    "id": "JNKTNt3gKWdp"
   },
   "outputs": [],
   "source": [
    "def gradient_out(out, one_hot_batch):\n",
    "    \"\"\"\n",
    "    compute the gradient w.r.t. the pre-activation values of the softmax z_i\n",
    "    :param out: the softmax values (n_output x minibatch_size)\n",
    "    :type out: ndarray\n",
    "    :param one_hot_batch: the one-hot representation of the labels (n_output x minibatch_size)\n",
    "    :type one_hot_batch: ndarray\n",
    "    :return: the gradient w.r.t. z (n_output x minibatch_size)\n",
    "    :rtype: ndarray\n",
    "    \"\"\"\n",
    "    return out - one_hot_batch"
   ]
  },
  {
   "cell_type": "markdown",
   "metadata": {
    "colab_type": "text",
    "id": "4-WxLD1nKWds"
   },
   "source": [
    "**Question:** Implémenter la fonction du calcul de gradient par rapport aux paramètres: $$\\delta W_{ij} = \\delta a_j x_i$$  $$\\delta b_{j} = \\delta a_j$$ où $\\delta W_{ij}$ est la composante du gradient associée à l'arête reliant les unités $i$ et $j$, $\\delta b_{j}$ est la composante du gradient associée au bias de l'unité $j$, $\\delta z_j$ est le gradient de l'erreur par rapport à l'unité $j$ et $x_i$ est la valeur d'activation de l'unité $i$."
   ]
  },
  {
   "cell_type": "code",
   "execution_count": 17,
   "metadata": {
    "colab": {},
    "colab_type": "code",
    "id": "hDB7Vc7nKWds"
   },
   "outputs": [],
   "source": [
    "def gradient(derror, X):\n",
    "    \"\"\"\n",
    "    Compute the gradient w.r.t. the parameters\n",
    "    :param derror: the gradient w.r.t. z (n_output x minibatch_size)\n",
    "    :param X: the input (minibatch_size x n_input)\n",
    "    :type derror: ndarray\n",
    "    :type minibatch: ndarray\n",
    "    :return: the gradient w.r.t. the parameters (n_output x n_input), (n_output, 1)\n",
    "    :rtype: ndarray, ndarray\n",
    "    \"\"\"\n",
    "    minibatch_size = X.shape[0]\n",
    "    n_output = derror.shape[0]\n",
    "    n_input = X.shape[1]\n",
    "    grad_w = np.zeros((n_output, n_input))\n",
    "    grad_b = np.zeros((n_output, 1))\n",
    "    \n",
    "    for i_sample in range(minibatch_size):\n",
    "        grad_b += np.transpose(np.atleast_2d(derror[:, i_sample]))\n",
    "        grad_w += np.outer(derror[:, i_sample], X[i_sample, :])\n",
    "    \n",
    "    grad_b /= minibatch_size\n",
    "    grad_w /= minibatch_size\n",
    "\n",
    "    return grad_w,grad_b"
   ]
  },
  {
   "cell_type": "code",
   "execution_count": 18,
   "metadata": {},
   "outputs": [
    {
     "data": {
      "text/plain": [
       "(array([[ 0.1713282 ,  0.16107871,  0.91745786, -0.04594329,  0.97289233],\n",
       "        [ 0.22492439,  0.1828736 ,  0.16011862, -0.72279475,  0.76712277],\n",
       "        [-0.71141237, -0.16291603,  0.13081718,  0.15097204, -0.60875498]]),\n",
       " array([[-0.17922264],\n",
       "        [-0.36807405],\n",
       "        [ 0.31830545]]))"
      ]
     },
     "execution_count": 18,
     "metadata": {},
     "output_type": "execute_result"
    }
   ],
   "source": [
    "derror = np.random.randn(3, 4)\n",
    "X = np.random.randn(4, 5)\n",
    "\n",
    "gradient(derror, X)"
   ]
  },
  {
   "cell_type": "markdown",
   "metadata": {
    "colab_type": "text",
    "id": "hBSv8LIlKWdu"
   },
   "source": [
    "**Question:** Implémenter la fonction de mise à jour des paramètres $$\\theta = \\theta - \\eta \\delta \\theta$$ où $\\theta$ est un paramètre du modèle et $\\delta \\theta$ la composante du gradient associée à $\\theta$."
   ]
  },
  {
   "cell_type": "code",
   "execution_count": 19,
   "metadata": {
    "colab": {},
    "colab_type": "code",
    "id": "RnPLmd-iKWdv"
   },
   "outputs": [],
   "source": [
    "def update(eta, W, b, grad_w, grad_b):\n",
    "    \"\"\"\n",
    "    Update the parameters with an update rule\n",
    "    :param eta: the step-size\n",
    "    :param W: the weights\n",
    "    :param b: the bias\n",
    "    :param grad_w: the gradient w.r.t. the weights\n",
    "    :param grad_b: the gradient w.r.t. the bias\n",
    "    :type eta: float\n",
    "    :type W: ndarray\n",
    "    :type b: ndarray\n",
    "    :type grad_w: ndarray\n",
    "    :type grad_b: ndarray\n",
    "    :return: the updated parameters\n",
    "    :rtype: ndarray, ndarray\n",
    "    \"\"\"\n",
    "    W = W - eta * grad_w\n",
    "    b = b - eta * grad_b\n",
    "    return W, b"
   ]
  },
  {
   "cell_type": "markdown",
   "metadata": {
    "colab_type": "text",
    "id": "hzcMLu1KKWdx"
   },
   "source": [
    "## Algorithme d'apprentissage \n",
    "\n",
    "On a tout ce qu'il faut pour mettre en oeuvre l'apprentissage d'un modèle simple. Le modèle est simplement une couche neuronale de sortie, sans couche cachée. \n",
    "\n",
    "L'algorithme se déroule en 2 temps, tout d'abord la préparation: \n",
    "- init. du modèle\n",
    "- préparation des données et des variables permettant de stocker l'historique d'apprentissage\n",
    "- init. des paramètres de la SGD\n",
    "- définir le nombre d'époque comme une variable\n",
    "\n",
    "Puis vient la boucle d'apprentissage qui pour chaque époque effectue pour chaque exemple d'apprentissage : \n",
    "- inférence du modèle sur l'exemple d'apprentissage \n",
    "- calcul de la contribution de l'exemple à la  fonction objectif, et également au taux d'erreur de classification\n",
    "- Calcul du gradient de sortie\n",
    "- Mise à jour du modèle\n",
    "\n",
    "**Question:** Implémenter l'apprentissage du modèle"
   ]
  },
  {
   "cell_type": "code",
   "execution_count": 20,
   "metadata": {},
   "outputs": [],
   "source": [
    "def one_hot_labels(labels, n_labels):\n",
    "    \"\"\"\n",
    "    Compute one-hot representation of labels\n",
    "    :param labels: labels of the samples (1 x minibatch_size)\n",
    "    :param n_labels: number of different classes\n",
    "    :type labels: ndarray\n",
    "    :type n_labels: int\n",
    "    :type minibatch_size: int\n",
    "    :return: the one-hot representation (n_labels x minibatch_size)\n",
    "    :rtype: ndarray\n",
    "    \"\"\"\n",
    "    one_hot = np.zeros((n_labels, labels.size))\n",
    "    one_hot[labels, np.arange(labels.size)] = 1\n",
    "    return one_hot\n",
    "\n",
    "def log_loss(outputs, one_hot_labels):\n",
    "    \"\"\"\n",
    "    Compute log-loss of current batch\n",
    "    :param outputs: outputs of the NNet (n_labels x minibatch_size)\n",
    "    :param one_hot_labels: one-hot representation of real labels (n_labels x minibatch_size)\n",
    "    :return log-loss summed over all outputs\n",
    "    \"\"\"\n",
    "    return np.sum(-np.log(outputs) * one_hot_labels) / outputs.shape[1]\n",
    "\n",
    "\n",
    "def error_rate(outputs, one_hot_labels):\n",
    "    \"\"\"\n",
    "    Compute classification error rate of current batch\n",
    "    :param outputs: outputs of the NNet (n_labels x minibatch_size)\n",
    "    :param one_hot_labels: one-hot representation of real labels (n_labels x minibatch_size)\n",
    "    :return error rate computed over all outputs\n",
    "    \"\"\"\n",
    "    n_labels = one_hot_labels.shape[0]\n",
    "    n_samples = one_hot_labels.shape[1]\n",
    "    predicted_one_hot_labels = np.zeros(one_hot_labels.shape)\n",
    "    predicted_one_hot_labels[np.argmax(outputs, axis=0), np.arange(n_samples)] = 1\n",
    "\n",
    "    nb_correct_predictions = np.sum(predicted_one_hot_labels * one_hot_labels)\n",
    "    return 1 - nb_correct_predictions / n_samples\n",
    "    "
   ]
  },
  {
   "cell_type": "code",
   "execution_count": 21,
   "metadata": {
    "colab": {},
    "colab_type": "code",
    "id": "2y1-MKzmKWdy"
   },
   "outputs": [],
   "source": [
    "def train_nnet(train_set, valid_set=[], nb_epoch=3, minibatch_size=128, eta_0=1, eta_decrease_factor=0.2):\n",
    "\n",
    "    # initialisation du NNet\n",
    "    n_training, n_feature, n_label = getDimDataset(train_set)\n",
    "    W, b = init(n_feature, n_label)\n",
    "\n",
    "    # preparation donnees et variables pour l'historique de l'apprentissage\n",
    "    iteration_counter = 0\n",
    "    logloss_train = []\n",
    "    error_train = []\n",
    "    logloss_valid = []\n",
    "    error_valid = []\n",
    "\n",
    "    for i_epoch in range(nb_epoch):\n",
    "        print(\"Training model (epoch = {}/{})\".format(i_epoch+1, nb_epoch))\n",
    "        for i_batch in range(0, n_training, minibatch_size):\n",
    "            iteration_counter += 1\n",
    "\n",
    "            # lecture du minibatch\n",
    "            batches_index = np.arange(i_batch, i_batch + minibatch_size) % n_training\n",
    "            X = train_set[0][batches_index, :]\n",
    "            y = train_set[1][batches_index]\n",
    "\n",
    "            # representation one-hot des labels\n",
    "            y_one_hot = one_hot_labels(y, n_label)\n",
    "\n",
    "            # inference : forward propagation\n",
    "            outputs = softmax(forward(W, b, X))\n",
    "\n",
    "            # calcul de la log-loss et du taux d'erreur pour ce batch\n",
    "            logloss_train.append(log_loss(outputs, y_one_hot))\n",
    "            error_train.append(error_rate(outputs, y_one_hot))\n",
    "\n",
    "            # calcul de la log-loss et du taux d'erreur pour les samples de validation\n",
    "            if valid_set:\n",
    "                outputs_valid = softmax(forward(W, b, valid_set[0]))\n",
    "                labels_valid = one_hot_labels(valid_set[1], n_label)\n",
    "                logloss_valid.append(log_loss(outputs_valid, labels_valid))\n",
    "                error_valid.append(error_rate(outputs_valid, labels_valid))\n",
    "\n",
    "            # calcul du gradient de sortie : backward propagation\n",
    "            grad_z = gradient_out(outputs, y_one_hot)\n",
    "            grad_w, grad_b = gradient(grad_z, X)\n",
    "\n",
    "            # mise a jour du modele\n",
    "            eta = eta_0 / (1 + eta_decrease_factor * iteration_counter)\n",
    "            W, b = update(eta, W, b, grad_w, grad_b)\n",
    "\n",
    "    return W, b, logloss_train, error_train, logloss_valid, error_valid\n"
   ]
  },
  {
   "cell_type": "code",
   "execution_count": 26,
   "metadata": {},
   "outputs": [
    {
     "name": "stdout",
     "output_type": "stream",
     "text": [
      "Training model (epoch = 1/10)\n",
      "Training model (epoch = 2/10)\n",
      "Training model (epoch = 3/10)\n",
      "Training model (epoch = 4/10)\n",
      "Training model (epoch = 5/10)\n",
      "Training model (epoch = 6/10)\n",
      "Training model (epoch = 7/10)\n",
      "Training model (epoch = 8/10)\n",
      "Training model (epoch = 9/10)\n",
      "Training model (epoch = 10/10)\n"
     ]
    }
   ],
   "source": [
    "# parametres\n",
    "NB_EPOCH = 10\n",
    "MINIBATCH_SIZE = 256\n",
    "ETA_0 = 1\n",
    "DECREASE_CONSTANT = 0\n",
    "\n",
    "W, b, logloss_train, error_train, logloss_valid, error_valid = train_nnet(train_set, valid_set, NB_EPOCH, MINIBATCH_SIZE, ETA_0, DECREASE_CONSTANT)"
   ]
  },
  {
   "cell_type": "markdown",
   "metadata": {
    "colab_type": "text",
    "id": "iZEhLDilKWd0"
   },
   "source": [
    "**Question:** Si vous stockez correctement les informations, vous pouvez tracer l'évolution du taux d'erreur et de la fonction objectif au cours du temps. Cette étape est loin d'être illustrative, elle est indispensable pour vérifier si l'apprentissage se passe bien. \n",
    "\n"
   ]
  },
  {
   "cell_type": "markdown",
   "metadata": {
    "colab_type": "text",
    "id": "CwFi9mTCKWd4"
   },
   "source": [
    "**Question:** Inclure dans votre code, le calcul du taux d'erreur et de la fonction objectif sur les données de validation (cela doit faire l'objet du fonction à part). Représenter les évolutions également et les comparer avec celles observées sur les données d'apprentissage. "
   ]
  },
  {
   "cell_type": "code",
   "execution_count": 27,
   "metadata": {
    "colab": {},
    "colab_type": "code",
    "id": "sZNcuF2kKWd5"
   },
   "outputs": [
    {
     "name": "stdout",
     "output_type": "stream",
     "text": [
      "Results for test set :\n",
      " - mean log-loss for each sample = 0.278\n",
      " - classification error rate     = 7.85%\n"
     ]
    },
    {
     "data": {
      "image/png": "[encoded data removed]",
      "text/plain": [
       "<Figure size 432x288 with 1 Axes>"
      ]
     },
     "metadata": {
      "needs_background": "light"
     },
     "output_type": "display_data"
    },
    {
     "data": {
      "image/png": "[encoded data removed]",
      "text/plain": [
       "<Figure size 432x288 with 1 Axes>"
      ]
     },
     "metadata": {
      "needs_background": "light"
     },
     "output_type": "display_data"
    }
   ],
   "source": [
    "outputs_test = softmax(forward(W, b, test_set[0]))\n",
    "labels_test = one_hot_labels(test_set[1], 10)\n",
    "print(\"Results for test set :\")\n",
    "print(\" - mean log-loss for each sample = {:.3f}\".format(log_loss(outputs_test, labels_test)))\n",
    "print(\" - classification error rate     = {:.2f}%\".format(error_rate(outputs_test, labels_test) * 100))\n",
    "\n",
    "plt.plot(logloss_train, \"r\", label='train (current batch)')\n",
    "plt.plot(logloss_valid, \"g\", label='valid (all samples)')\n",
    "plt.title(\"Log-loss\")\n",
    "plt.xlabel(\"Nb itérations sur mini-batches\")\n",
    "plt.ylabel(\"Log-loss moyenne de 1 échantillon\")\n",
    "plt.legend()\n",
    "plt.ylim((0, 0.8))\n",
    "plt.show()\n",
    "\n",
    "plt.plot(error_train, \"r\", label='train (current batch)')\n",
    "plt.plot(error_valid, \"g\", label='valid (all samples)')\n",
    "plt.title(\"Taux d'erreur de classification\")\n",
    "plt.xlabel(\"Nb itérations sur mini-batches\")\n",
    "plt.ylabel(\"Erreur de classification\")\n",
    "plt.legend()\n",
    "plt.ylim((0, 0.2))\n",
    "plt.show()"
   ]
  },
  {
   "cell_type": "markdown",
   "metadata": {
    "colab_type": "text",
    "id": "FzzIlowPKWd6"
   },
   "source": [
    "**Question:** Montrer, à l'aide d'une figure, l'effet du step-size (prendre $\\eta$=[0.01,0.1,1.0,10.]) sur les courbes d'apprentissage"
   ]
  },
  {
   "cell_type": "code",
   "execution_count": 270,
   "metadata": {
    "colab": {},
    "colab_type": "code",
    "id": "LadSNtxsKWd7"
   },
   "outputs": [
    {
     "name": "stdout",
     "output_type": "stream",
     "text": [
      "Learning for eta = 0.01\n",
      "Training model (epoch = 1/3)\n",
      "Training model (epoch = 2/3)\n",
      "Training model (epoch = 3/3)\n",
      "Learning for eta = 0.1\n",
      "Training model (epoch = 1/3)\n",
      "Training model (epoch = 2/3)\n",
      "Training model (epoch = 3/3)\n",
      "Learning for eta = 1.0\n",
      "Training model (epoch = 1/3)\n",
      "Training model (epoch = 2/3)\n",
      "Training model (epoch = 3/3)\n",
      "Learning for eta = 10.0\n",
      "Training model (epoch = 1/3)\n",
      "Training model (epoch = 2/3)\n",
      "Training model (epoch = 3/3)\n"
     ]
    },
    {
     "data": {
      "image/png": "[encoded data removed]",
      "text/plain": [
       "<Figure size 432x288 with 1 Axes>"
      ]
     },
     "metadata": {
      "needs_background": "light"
     },
     "output_type": "display_data"
    },
    {
     "data": {
      "image/png": "[encoded data removed]",
      "text/plain": [
       "<Figure size 432x288 with 1 Axes>"
      ]
     },
     "metadata": {
      "needs_background": "light"
     },
     "output_type": "display_data"
    }
   ],
   "source": [
    "NB_EPOCH = 3\n",
    "MINIBATCH_SIZE = 256\n",
    "TRAIN = False\n",
    "\n",
    "eta_range =[0.01, 0.1, 1.0, 10.0]\n",
    "\n",
    "# train\n",
    "if TRAIN:\n",
    "    log_loss_train = []\n",
    "    error_rate_train = []\n",
    "    log_loss_valid = []\n",
    "    error_rate_valid = []\n",
    "    \n",
    "    for eta in eta_range:\n",
    "        print(\"Learning for eta = {}\".format(eta))\n",
    "        _, _, logloss_train, error_train, logloss_valid, error_valid = train_nnet(train_set, valid_set, NB_EPOCH, MINIBATCH_SIZE, eta, 0)\n",
    "        log_loss_train.append(logloss_train)\n",
    "        error_rate_train.append(error_train)\n",
    "        log_loss_valid.append(logloss_valid)\n",
    "        error_rate_valid.append(error_valid)\n",
    "    \n",
    "# display results\n",
    "for i in range(len(log_loss_valid)):\n",
    "    plt.plot(log_loss_valid[i], label=\"eta = \" + str(eta_range[i]))\n",
    "plt.title(\"Log-loss moyenne (set de validation)\")\n",
    "plt.xlabel(\"Nb itérations sur mini-batches\")\n",
    "plt.ylabel(\"Log-loss moyenne de 1 échantillon\")\n",
    "plt.legend()\n",
    "plt.show()\n",
    "\n",
    "for i in range(len(log_loss_valid)):\n",
    "    plt.plot(error_rate_valid[i], label=\"eta = \" + str(eta_range[i]))\n",
    "plt.title(\"Taux d'erreur de classification (set de validation)\")\n",
    "plt.xlabel(\"Nb itérations sur mini-batches\")\n",
    "plt.ylabel(\"Erreur de classification\")\n",
    "plt.legend()\n",
    "plt.show()"
   ]
  },
  {
   "cell_type": "markdown",
   "metadata": {},
   "source": [
    "On remarque que pour de faibles valeurs de $\\eta$, on a une bonne stabilité de convergence. Cependant, la mise à jour des paramètres étant plus lente, un plus grand nombre d'itérations est nécessaire.\n",
    "\n",
    "Pour des grandes valeurs de $\\eta$ ($\\sim 10$), le bruit sur le calcul du gradient est trop amplifié, et génère de trop grandes mise à jour des paramètres. L'entraînement du réseau est donc instable.\n",
    "\n",
    "La meilleure convergence est finalement assurée pour $\\eta=1$, juste milieu entre une convergence rapide et une convergence stable."
   ]
  }
 ],
 "metadata": {
  "colab": {
   "name": "TP1.ipynb",
   "provenance": [],
   "version": "0.3.2"
  },
  "kernelspec": {
   "display_name": "Python 3",
   "language": "python",
   "name": "python3"
  },
  "language_info": {
   "codemirror_mode": {
    "name": "ipython",
    "version": 3
   },
   "file_extension": ".py",
   "mimetype": "text/x-python",
   "name": "python",
   "nbconvert_exporter": "python",
   "pygments_lexer": "ipython3",
   "version": "3.5.2"
  }
 },
 "nbformat": 4,
 "nbformat_minor": 1
}
